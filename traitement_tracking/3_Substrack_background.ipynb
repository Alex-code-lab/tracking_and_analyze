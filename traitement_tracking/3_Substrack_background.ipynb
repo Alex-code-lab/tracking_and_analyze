{
 "cells": [
  {
   "cell_type": "code",
   "execution_count": null,
   "metadata": {},
   "outputs": [],
   "source": [
    "import cv2\n",
    "import numpy as np\n",
    "import matplotlib.pyplot as plt\n",
    "from scipy import ndimage\n",
    "from skimage import util\n",
    "import trackpy as tp\n",
    "import functions_analyze as lib\n",
    "import imageio\n",
    "import os\n"
   ]
  },
  {
   "cell_type": "code",
   "execution_count": null,
   "metadata": {},
   "outputs": [],
   "source": [
    "manip = '2024_03_26_ASMOT143_AX3_2024_P1_10x_CytoOne_HL5_2603-17h00-2703-12h00'\n",
    "frame = lib.import_img_sequences(path=f'/Users/souchaud/Desktop/A_analyser/CytoOne_HL5_10x/{manip}/mosaic/',\n",
    "                                 first_frame=0, last_frame=50, file_extension='.tif')"
   ]
  },
  {
   "cell_type": "code",
   "execution_count": null,
   "metadata": {},
   "outputs": [],
   "source": [
    "# Conversion des images en tableau NumPy\n",
    "# Assurez-vous que toutes vos images ont les mêmes dimensions\n",
    "images_array = np.stack([np.array(img) for img in frame])\n",
    "\n",
    "# Calculer la médiane pixel par pixel\n",
    "median_image = np.median(images_array, axis=0)\n",
    "\n",
    "# Afficher l'image médiane\n",
    "plt.figure(figsize=(10, 10))\n",
    "plt.imshow(median_image, cmap='gray')  # Utilisez cmap='gray' pour les images en niveaux de gris\n",
    "plt.title(\"Image Moyenne\")\n",
    "plt.axis('off')  # Cacher les axes\n",
    "plt.show()"
   ]
  },
  {
   "cell_type": "code",
   "execution_count": null,
   "metadata": {},
   "outputs": [],
   "source": [
    "# Soustraire l'image médiane\n",
    "subtracted_image = frame[1] - median_image\n",
    "# Afficher l'image médiane\n",
    "plt.figure(figsize=(10, 10))\n",
    "plt.imshow(subtracted_image, cmap='gray')  # Utilisez cmap='gray' pour les images en niveaux de gris\n",
    "plt.title(\"substracted image\")\n",
    "plt.axis('off')  # Cacher les axes\n",
    "plt.show()"
   ]
  },
  {
   "cell_type": "code",
   "execution_count": null,
   "metadata": {},
   "outputs": [],
   "source": [
    "# # Assurez-vous d'avoir le bon chemin de sauvegarde\n",
    "# save_path = '/Users/souchaud/Desktop/A_analyser/CytoOne_HL5_10x/2024_03_05_ASMOT132_AX3_MAT_P3_10x_CytoOne_HL5_0403-15h-0503-14h07/mosaic_substract/'\n",
    "\n",
    "# # Vérifier si le dossier existe\n",
    "# if not os.path.exists(save_path):\n",
    "#     # Le dossier n'existe pas, donc on le crée\n",
    "#     os.makedirs(save_path)\n",
    "#     print(f\"Le dossier {save_path} a été créé.\")\n",
    "# else:\n",
    "#     print(f\"Le dossier {save_path} existe déjà.\")\n",
    "\n",
    "    \n",
    "# for i, img in enumerate(frame):\n",
    "#     # Convertir l'image en tableau NumPy si ce n'est pas déjà le cas\n",
    "#     img_array = np.array(img)\n",
    "    \n",
    "#     # Soustraire l'image médiane\n",
    "#     subtracted_image = img_array - median_image\n",
    "\n",
    "#     filename = f'mosaic_total_{i}.tif'\n",
    "    \n",
    "#     # Sauvegarder l'image\n",
    "#     imageio.imwrite(os.path.join(save_path, filename), subtracted_image.astype(np.uint32))\n"
   ]
  },
  {
   "cell_type": "code",
   "execution_count": null,
   "metadata": {},
   "outputs": [],
   "source": [
    "# Chemin où sauvegarder les images soustraites\n",
    "save_path = '/Users/souchaud/Desktop/A_analyser/CytoOne_HL5_10x/2024_03_05_ASMOT132_AX3_MAT_P3_10x_CytoOne_HL5_0403-15h-0503-14h07/mosaic_substract/'\n",
    "\n",
    "# Vérifiez si le dossier existe. Sinon, créez-le.\n",
    "if not os.path.exists(save_path):\n",
    "    os.makedirs(save_path)\n",
    "    print(f\"Le dossier {save_path} a été créé.\")\n",
    "else:\n",
    "    print(f\"Le dossier {save_path} existe déjà.\")\n",
    "\n",
    "# Supposons que 'frame' est une liste ou un itérable des images que vous voulez traiter\n",
    "# et que 'median_image' est l'image médiane calculée précédemment\n",
    "\n",
    "for i, img in enumerate(frame):\n",
    "    # Convertir l'image en tableau NumPy si ce n'est pas déjà le cas\n",
    "    img_array = np.array(img)\n",
    "    \n",
    "    # Soustraire l'image médiane de chaque image\n",
    "    subtracted_image = img_array - median_image\n",
    "\n",
    "    # Ajuster les valeurs négatives et NaN\n",
    "    subtracted_image[subtracted_image < 0] = 0  # Remplacer les valeurs négatives par 0\n",
    "    subtracted_image = np.nan_to_num(subtracted_image, nan=0, posinf=0, neginf=0)  # Remplacer NaN et inf par 0\n",
    "\n",
    "    # Construire le nom de fichier pour chaque image soustraite\n",
    "    filename = f'mosaic_total_{i}.tif'\n",
    "    \n",
    "    # Sauvegarder l'image ajustée\n",
    "    # Note : Assurez-vous que la conversion en uint32 n'introduit pas de distorsions\n",
    "    imageio.imwrite(os.path.join(save_path, filename), subtracted_image.astype(np.uint8))\n"
   ]
  },
  {
   "cell_type": "code",
   "execution_count": null,
   "metadata": {},
   "outputs": [],
   "source": []
  }
 ],
 "metadata": {
  "kernelspec": {
   "display_name": "Tracking_and_analyse",
   "language": "python",
   "name": "python3"
  },
  "language_info": {
   "codemirror_mode": {
    "name": "ipython",
    "version": 3
   },
   "file_extension": ".py",
   "mimetype": "text/x-python",
   "name": "python",
   "nbconvert_exporter": "python",
   "pygments_lexer": "ipython3",
   "version": "3.9.18"
  }
 },
 "nbformat": 4,
 "nbformat_minor": 2
}
