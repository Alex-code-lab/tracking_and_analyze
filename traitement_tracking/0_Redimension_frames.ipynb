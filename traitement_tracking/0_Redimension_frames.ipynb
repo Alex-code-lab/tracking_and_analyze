{
 "cells": [
  {
   "cell_type": "code",
   "execution_count": 1,
   "metadata": {},
   "outputs": [],
   "source": [
    "#!/usr/bin/env python3\n",
    "# -*- coding: utf-8 -*-\n",
    "\"\"\"\n",
    "Created on Tue Oct 24 15:47:23 2023\n",
    "\n",
    "@author: souchaud\n",
    "\"\"\"\n",
    "import os\n",
    "import cv2\n",
    "path_gen = '/Users/souchaud/Desktop/'"
   ]
  },
  {
   "cell_type": "code",
   "execution_count": 4,
   "metadata": {},
   "outputs": [],
   "source": [
    "exp = [# '2023_01_25_ASMOT052_BoiteCytoOne_HL5_15s_5x_P3_AX3Chi1_t0_21c8_LDMOT01/8bits/',\n",
    "    #    '2023_01_25_ASMOT053_BoiteCytoOne_HL5_15s_5x_P3_AX3Chi1_t90_21c8_LDMOT01',\n",
    "        '2024_02_20_ASMOT127_AX3_MAT_P4_10x_CytoOne_HL5_1902-11h-2002-14h42_1/',\n",
    "       # '2023_01_25_ASMOT054_BoiteCytoOne_HL5_15s_5x_P3_AX3Chi2_t0_21c_DGMOT01/8bits/',\n",
    "       # '2023_01_27_ASMOT055_BoiteCytoOne_HL5_15s_5x_P4_AX3Chi2_t0_21c/8bits/',\n",
    "       # '2023_02_15_ASMOT056_BoiteCytoOne_HL5_Chi2_P4_5x_15s_21c_t0_Em/8bits/',\n",
    "       # '2023_02_15_ASMOT057_BoiteCytoOne_HL5_Chi2_P4_5x_15s_21c_t90_Em/8bits/'\n",
    "       ]"
   ]
  },
  {
   "cell_type": "code",
   "execution_count": 3,
   "metadata": {},
   "outputs": [],
   "source": [
    "for path in [os.path.join(path_gen, nom) for nom in exp]:\n",
    "    for folder in [f for f in os.listdir(path) if os.path.isdir(os.path.join(path, f))]:\n",
    "        for image in [f for f in os.listdir(os.path.join(path, folder))]:\n",
    "\n",
    "            image_path = os.path.join(path, folder, image)\n",
    "\n",
    "            image_initiale = cv2.imread(image_path)\n",
    "\n",
    "            if image_initiale is not None:\n",
    "                if image_initiale.dtype != 'uint8':\n",
    "                    print(\"here is a prob on image : \", image,\n",
    "                          'which type is:', image_initiale.dtype)\n",
    "                else:\n",
    "                    # Convert to grayscale if the image has more than one channel\n",
    "                    # (i.e., is not already grayscale)\n",
    "                    if len(image_initiale.shape) > 2:\n",
    "                        image_grayscale = cv2.cvtColor(image_initiale, cv2.COLOR_BGR2GRAY)\n",
    "                        # print(len(image_initiale.shape))\n",
    "                    else:\n",
    "                        image_grayscale = image_initiale\n",
    "\n",
    "                    nouvelle_dim = (3*2048, 4*2048)\n",
    "                    image_redim = cv2.resize(image_grayscale, nouvelle_dim,\n",
    "                                             interpolation=cv2.INTER_LINEAR)\n",
    "                    cv2.imwrite(image_path, image_redim)\n",
    "\n",
    "            # nouvelle_dim = (2048, 2048)\n",
    "            # image_redim = cv2.resize(image_initiale, nouvelle_dim, interpolation=cv2.INTER_LINEAR)\n",
    "            # cv2.imwrite(os.path.join(path, folder, image), image_redim)"
   ]
  },
  {
   "cell_type": "code",
   "execution_count": null,
   "metadata": {},
   "outputs": [],
   "source": []
  }
 ],
 "metadata": {
  "kernelspec": {
   "display_name": "Tracking_and_analyse",
   "language": "python",
   "name": "python3"
  },
  "language_info": {
   "codemirror_mode": {
    "name": "ipython",
    "version": 3
   },
   "file_extension": ".py",
   "mimetype": "text/x-python",
   "name": "python",
   "nbconvert_exporter": "python",
   "pygments_lexer": "ipython3",
   "version": "3.9.18"
  }
 },
 "nbformat": 4,
 "nbformat_minor": 2
}
