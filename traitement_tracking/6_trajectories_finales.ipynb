{
 "cells": [
  {
   "cell_type": "markdown",
   "metadata": {},
   "source": [
    "<!DOCTYPE html>\n",
    "<html lang=\"fr\">\n",
    "<head>\n",
    "    <meta charset=\"UTF-8\">\n",
    "    <title>Extraction de Trajectoires</title>\n",
    "    <style>\n",
    "        h1 {\n",
    "            color: skyblue;\n",
    "            font-size: 30px;\n",
    "            font-weight: bold; /* Notez que c'est 'font-weight' et non 'font-style' pour le gras */\n",
    "        }\n",
    "        .red-text {\n",
    "            color: red;\n",
    "        }\n",
    "        .green-text {\n",
    "            color: DarkSeaGreen;\n",
    "        }\n",
    "    </style>\n",
    "</head>\n",
    "<body>\n",
    "    <h1>Extraction de Trajectoires pour Étude</h1>\n",
    "    <p>L'objectif de ce processus est de lire le document de tracking afin d'extraire uniquement les trajectoires spécifiques à étudier. Cela permet de préparer un fichier final des trajectoires qui sera utilisé dans l'analyse ultérieure, évitant ainsi des complications liées aux variations de paramètres entre différentes manipulations (telles que la luminosité et la taille).</p>\n",
    "    <p>Cette approche assure que toutes les données nécessaires sont directement disponibles dans le fichier final, éliminant le besoin de retravailler les fichiers ultérieurement et de résoudre des problèmes causés par des paramètres hétérogènes.</p>\n",
    "    <ol>\n",
    "        <li><strong class=\"green-text\">Chargement du fichier :</strong> Charger le fichier de la manipulation que l'on souhaite étudier.</li>\n",
    "        <li><strong class=\"green-text\">Création des trajectoires :</strong> Traitement des données pour créer les trajectoires d'intérêt.</li>\n",
    "        <li><strong class=\"green-text\">Triage des données :</strong> Trier les trajectoires pour ne conserver que celles pertinentes à l'étude.</li>\n",
    "        <li><strong class=\"green-text\">Enregistrement du nouveau fichier :</strong> Sauvegarder les trajectoires sélectionnées dans un nouveau fichier qui sera utilisé pour les analyses futures.</li>\n",
    "    </ol>\n",
    "</body>\n",
    "</html>\n"
   ]
  },
  {
   "cell_type": "code",
   "execution_count": null,
   "metadata": {},
   "outputs": [],
   "source": [
    "import pandas as pd\n",
    "import os\n",
    "import re\n",
    "import trackpy as tp\n",
    "import matplotlib.pyplot as plt\n",
    "import imageio.v2 as imageio"
   ]
  },
  {
   "cell_type": "code",
   "execution_count": null,
   "metadata": {},
   "outputs": [],
   "source": [
    "def remove_drift(traj, smooth, save=False, pathway_saving=None, name=None, img_type=\"jpg\"):\n",
    "    \"\"\"\n",
    "    Remove overall drift motion.\n",
    "\n",
    "    Remove overall drift motion from trajectories by adopting\n",
    "    the referenceframe of the particles' average position.\n",
    "\n",
    "    Parameters\n",
    "    ----------\n",
    "    traj : pd.DataFrame\n",
    "        DataFrame containing the trajectories.\n",
    "    smooth : int\n",
    "        Smoothing value used to smooth the drift curves.\n",
    "\n",
    "    Returns\n",
    "    -------\n",
    "    corrected_traj : pd.DataFrame\n",
    "        DataFrame containing the corrected trajectories.\n",
    "    \"\"\"\n",
    "    # Calculate drift\n",
    "    drift = tp.compute_drift(traj, smooth)\n",
    "\n",
    "    # Plot drift curves\n",
    "    plt.figure(figsize=(20, 20))\n",
    "    drift.plot(color=['blue', 'red'], linestyle='dotted')\n",
    "\n",
    "    # Add title and axis labels\n",
    "    plt.title(f'Drift Curves of {name}', fontsize=40,\n",
    "              fontweight=\"bold\", fontstyle='italic', fontname=\"Arial\")\n",
    "    plt.xlabel('Frame number', fontsize=16, fontstyle='italic')\n",
    "    plt.ylabel('Drift (pixel)', fontsize=14, color='red')\n",
    "\n",
    "    # Add grid\n",
    "    plt.grid()\n",
    "\n",
    "    # Set axis limits\n",
    "    plt.xlim([0, traj['frame'].max()])\n",
    "    plt.ylim([-10, 10])\n",
    "\n",
    "    plt.tight_layout()\n",
    "    # plt.clf()\n",
    "    # plt.close()\n",
    "    if save:\n",
    "        if pathway_saving is not None:\n",
    "            plt.savefig(pathway_saving+f'drift{name}.' + img_type,\n",
    "                        format=img_type, dpi=None, bbox_inches='tight')\n",
    "        else:\n",
    "            save = False\n",
    "    # Correct trajectories by subtracting the drift\n",
    "    corrected_traj = tp.subtract_drift(traj, drift)\n",
    "    plt.show()\n",
    "    plt.close()\n",
    "\n",
    "    return corrected_traj"
   ]
  },
  {
   "cell_type": "code",
   "execution_count": null,
   "metadata": {},
   "outputs": [],
   "source": [
    "def read_hdf5_single_file(filepath: str, condition: str, manip_name: str, name_file: str = 'features',\n",
    "                          nbr_frame_min: int =200, drift=False, search_range: int = 100,\n",
    "                          memory: int = 5, adaptive_stop: int = 30, min_mass_raw: int = 1000, max_size: int = 40):\n",
    "    \"\"\"\n",
    "    Read a single traj hdf5 file.\n",
    "\n",
    "    Parameters\n",
    "    ----------\n",
    "    filepath : string\n",
    "        absolute path to the traj hdf5 file.\n",
    "    condition : str\n",
    "        specific condition of the experiment.\n",
    "\n",
    "    Returns\n",
    "    -------\n",
    "    data : pd.DataFrame\n",
    "        DataFrame of the trajectories info, with new columns (particle positions, and experiment name)\n",
    "\n",
    "    \"\"\"\n",
    "    # Initialize an empty DataFrame\n",
    "    data = pd.DataFrame()\n",
    "    \n",
    "    # Checking if the file exists and matches the criteria\n",
    "    filepath = os.path.join(filepath, name_file + '.hdf5')\n",
    "    if filepath.endswith(\".hdf5\") and name_file in filepath:\n",
    "        try:\n",
    "            data = pd.read_hdf(filepath, key='table')\n",
    "            print(data)\n",
    "        except ValueError as e:\n",
    "            print(f\"Error reading {filepath}: {e}\")\n",
    "            return pd.DataFrame()  # Return empty DataFrame in case of error\n",
    "\n",
    "        # Apply linking if 'features' file\n",
    "        if name_file == 'features' and 'particle' not in data.columns:\n",
    "            # Chaînage des particules avec retain_index=True\n",
    "            # data = tp.link(data, search_range=search_range, memory=memory,\n",
    "            #                   neighbor_strategy='KDTree', link_strategy='auto',\n",
    "            #                   adaptive_stop=adaptive_stop)\n",
    "            data = tp.link_df(data, search_range=search_range, memory=memory,\n",
    "                              neighbor_strategy='KDTree', link_strategy='auto',\n",
    "                              adaptive_stop=adaptive_stop,)\n",
    "            \n",
    "        \n",
    "        # Filter data based on mass and size if columns exist\n",
    "        if 'size' in data.columns and 'mass' in data.columns and 'raw_mass' in data.columns:\n",
    "            mean_mass_by_particle = data.groupby('particle')['raw_mass'].mean()\n",
    "            particles_to_keep = mean_mass_by_particle[mean_mass_by_particle > min_mass_raw].index\n",
    "            data = data[data['particle'].isin(particles_to_keep)]\n",
    "\n",
    "        # Filter particles based on the minimum number of frames\n",
    "        counts = data.groupby(['particle']).size()\n",
    "        particles_to_keep = counts[counts >= nbr_frame_min].reset_index(name='count')\n",
    "        data = data.merge(particles_to_keep, on=['particle'])\n",
    "        data['experiment'] = manip_name\n",
    "        data['condition'] = condition\n",
    "        \n",
    "        # Assuming remove_drift is a function defined elsewhere if needed\n",
    "        if drift:\n",
    "            data = remove_drift(traj=data, smooth=2, save=True, pathway_saving=os.path.dirname(filepath),\n",
    "                                name=manip_name)\n",
    "            data = data.drop('frame', axis=1).reset_index(drop=True)\n",
    "            \n",
    "\n",
    "\n",
    "    print(manip_name, \" : \", data['particle'].nunique())\n",
    "    # print(\"Nombre de particules récoltées avant tri: \", data_all['particle'].nunique())\n",
    "    return data"
   ]
  },
  {
   "cell_type": "markdown",
   "metadata": {},
   "source": [
    "<center><span style=\"color: skyblue; font-size: 30px; font-style: bold\"> Mise en place des chemin d'expériences et images, définitions de la condition d'étude</span></center>"
   ]
  },
  {
   "cell_type": "code",
   "execution_count": null,
   "metadata": {},
   "outputs": [],
   "source": [
    "PATHWAY_EXPERIMENTS= '/Users/souchaud/Desktop/Analyses/'\n",
    "PATHWAY_PICTURES= '/Users/souchaud/Desktop/A_analyser/'\n",
    "CONDITION='CytoOne_HL5_AMPC_1000pourcent_10x'\n",
    "MANIP='ASMOT290'\n",
    "PATHWAY=os.path.join(PATHWAY_EXPERIMENTS, CONDITION + '_results_tracking/')\n",
    "# Parcourir les dossiers dans PATHWAY\n",
    "for dir_name in os.listdir(PATHWAY):\n",
    "    if MANIP in dir_name:\n",
    "        MANIP_NAME = dir_name\n",
    "        break\n",
    "print(os.listdir(PATHWAY))\n",
    "PATHWAY_RESULTS = os.path.join(PATHWAY, MANIP_NAME)\n",
    "PATHWAY_RESULTS = os.path.join(PATHWAY_RESULTS, 'mosaic/')\n",
    "\n",
    "PATHWAY_PICTURES= os.path.join(PATHWAY_PICTURES, CONDITION + '_faits')\n",
    "# Parcourir les dossiers dans PATHWAY\n",
    "for dir_name in os.listdir(PATHWAY_PICTURES):\n",
    "    if MANIP in dir_name:\n",
    "        PATHWAY_PICTURES = os.path.join(PATHWAY_PICTURES, dir_name, 'mosaic/')\n",
    "        break\n",
    "print(PATHWAY_PICTURES)"
   ]
  },
  {
   "cell_type": "code",
   "execution_count": null,
   "metadata": {},
   "outputs": [],
   "source": [
    "for dir_name in os.listdir(PATHWAY):\n",
    "    print(\"tous: \", dir_name)\n",
    "    if MANIP in dir_name:\n",
    "        print(dir_name)"
   ]
  },
  {
   "cell_type": "markdown",
   "metadata": {},
   "source": [
    "<center><span style=\"color: skyblue; font-size: 30px; font-style: bold\"> Paramètres d'étude</span></center>"
   ]
  },
  {
   "cell_type": "code",
   "execution_count": null,
   "metadata": {},
   "outputs": [],
   "source": [
    "FILE_NAME='features'\n",
    "N_FRAME_MIN_STUDY = 150\n",
    "DRIFT = False\n",
    "SEARCH_RANGE = 30\n",
    "MEMORY = 5\n",
    "MIN_MASS_RAW = 500\n",
    "MAX_SIZE = 20\n",
    "ADAPTIVE_STOP = 15"
   ]
  },
  {
   "cell_type": "markdown",
   "metadata": {},
   "source": [
    "<center><span style=\"color: skyblue; font-size: 30px; font-style: bold\"> Lectures des données</span></center>"
   ]
  },
  {
   "cell_type": "code",
   "execution_count": null,
   "metadata": {},
   "outputs": [],
   "source": [
    "DATA = read_hdf5_single_file(filepath=PATHWAY_RESULTS, manip_name=MANIP, \n",
    "                             name_file=FILE_NAME, nbr_frame_min=N_FRAME_MIN_STUDY, condition=CONDITION, drift=DRIFT,\n",
    "                             search_range=SEARCH_RANGE, memory=MEMORY, min_mass_raw=MIN_MASS_RAW, \n",
    "                             adaptive_stop=ADAPTIVE_STOP, max_size=MAX_SIZE)"
   ]
  },
  {
   "cell_type": "markdown",
   "metadata": {},
   "source": [
    "<center><span style=\"color: skyblue; font-size: 30px; font-style: bold\"> Plot final des trajectoires</span></center>"
   ]
  },
  {
   "cell_type": "code",
   "execution_count": null,
   "metadata": {},
   "outputs": [],
   "source": [
    "# Construction du chemin complet vers l'image à utiliser comme fond\n",
    "image_path_directory = f'{PATHWAY_PICTURES}/mosaic_total_0.tif'  # Ajustez selon le nom de fichier et le chemin d'accès réel\n",
    "\n",
    "# Lecture de l'image\n",
    "frame = imageio.imread(image_path_directory)\n",
    "\n",
    "# Créer la figure et les axes pour le sous-graphique\n",
    "fig, ax = plt.subplots(figsize=(10, 10))  # Ajustez la taille selon vos besoins\n",
    "\n",
    "# Tracer les trajectoires sur l'image\n",
    "ax.set_aspect('equal', 'box')\n",
    "ax.set_title(f'Trajectories after suspicious particles for {MANIP}')\n",
    "tp.plot_traj(DATA, superimpose=frame, label=False, ax=ax)\n",
    "\n",
    "# Afficher le graphique\n",
    "plt.show()"
   ]
  },
  {
   "cell_type": "markdown",
   "metadata": {},
   "source": [
    "<center><span style=\"color: skyblue; font-size: 30px; font-style: bold\"> Enregistrement des données en hdf5</span></center>"
   ]
  },
  {
   "cell_type": "code",
   "execution_count": null,
   "metadata": {},
   "outputs": [],
   "source": [
    "DATA.to_hdf(os.path.join(PATHWAY_RESULTS, 'filtered_final.hdf5'), 'table')"
   ]
  },
  {
   "cell_type": "code",
   "execution_count": null,
   "metadata": {},
   "outputs": [],
   "source": [
    "DATA['particle'].nunique()"
   ]
  },
  {
   "cell_type": "code",
   "execution_count": null,
   "metadata": {},
   "outputs": [],
   "source": [
    "import trackpy\n",
    "print(trackpy.__version__)"
   ]
  }
 ],
 "metadata": {
  "kernelspec": {
   "display_name": "tracking_and_analyse",
   "language": "python",
   "name": "python3"
  },
  "language_info": {
   "codemirror_mode": {
    "name": "ipython",
    "version": 3
   },
   "file_extension": ".py",
   "mimetype": "text/x-python",
   "name": "python",
   "nbconvert_exporter": "python",
   "pygments_lexer": "ipython3",
   "version": "3.9.18"
  }
 },
 "nbformat": 4,
 "nbformat_minor": 2
}
