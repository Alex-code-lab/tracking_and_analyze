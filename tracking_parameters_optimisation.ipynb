{
 "cells": [
  {
   "cell_type": "code",
   "execution_count": 32,
   "metadata": {},
   "outputs": [],
   "source": [
    "#!/usr/bin/env python3\n",
    "# -*- coding: utf-8 -*-\n",
    "\"\"\"\n",
    "Created on Mon Aug 21 10:51:23 2023\n",
    "\n",
    "@author: souchaud\n",
    "\"\"\"\n",
    "\n",
    "import os\n",
    "import glob\n",
    "import imageio\n",
    "import numpy as np\n",
    "import pandas as pd\n",
    "import trackpy as tp\n",
    "from tqdm import tqdm\n",
    "# import functions_track_and_analyze as lib\n",
    "import matplotlib.pyplot as plt\n",
    "import cv2\n",
    "from skimage import util\n",
    "# from joblib import Parallel, delayed"
   ]
  },
  {
   "cell_type": "code",
   "execution_count": 33,
   "metadata": {},
   "outputs": [],
   "source": [
    "# Consolidated parameters\n",
    "PARAMS = {\n",
    "        'diameter': 9,\n",
    "        'minmass': 50,\n",
    "        'max_size': 25,\n",
    "        'separation': 15,\n",
    "        'noise_size': 7,\n",
    "        'smoothing_size': None,\n",
    "        'invert': False,\n",
    "        'percentile': 10,\n",
    "        'topn': None,\n",
    "        'preprocess': True,\n",
    "        'max_iterations': 25,\n",
    "        'filter_before': None,\n",
    "        'filter_after': None,\n",
    "        'characterize': True,\n",
    "        'engine': 'auto',\n",
    "        'threshold': 40,  # 90,\n",
    "        'min_frames': 200,\n",
    "        'max_displacement': 15,\n",
    "        'frame_interval': 15,\n",
    "        'pixel_size': 1.2773,\n",
    "        'remove_exts': ['.jpg', '.svg', 'hdf5', '.png'],\n",
    "        'long_time': False,\n",
    "        'max_frame': 340,\n",
    "        # 'data_dir': '/Users/souchaud/Desktop/A_Analyser/CytoOne_HL5/',\n",
    "        'data_dir': '/Volumes/Labo_Alex_Mac/A_analyser/CytoOne_HL5/',\n",
    "        # 'data_dir': '/Users/souchaud/Desktop/A_Analyser/NonT_SorC/',\n",
    "        # 'output_dir': '/Users/souchaud/Desktop/Analyses/CytoOne_HL5_longtime/'\n",
    "        # 'data_dir': '/Volumes/Labo_Alex_Mac/A_analyser/CytoOne_HL5/',´\n",
    "        'output_dir': '/Users/souchaud/Desktop/Analyses/CytoOne_HL5_longtime_new_param/'\n",
    "        # 'output_dir': '/Users/souchaud/Desktop/Analyses/NonT_SorC_longtime_New/'\n",
    "        }"
   ]
  },
  {
   "cell_type": "code",
   "execution_count": 34,
   "metadata": {},
   "outputs": [],
   "source": [
    "EXPERIMENT_NAMES = [f + '/mosaic/' for f in os.listdir(PARAMS['data_dir'])\n",
    "                    if os.path.isdir(os.path.join(PARAMS['data_dir'], f))]"
   ]
  },
  {
   "cell_type": "code",
   "execution_count": 35,
   "metadata": {},
   "outputs": [],
   "source": [
    "def compute_mean_speed(filtered):\n",
    "    \"\"\"\n",
    "    Compute mean speed.\n",
    "\n",
    "    Parameters\n",
    "    ----------\n",
    "    - filtered: DataFrame with tracked cells\n",
    "    Returns\n",
    "    - mean_speed: Mean speed of all particles\n",
    "    - mean_speed_part: Mean speed per particle\n",
    "    \"\"\"\n",
    "    dx = filtered.groupby('particle')['x'].diff()\n",
    "    dy = filtered.groupby('particle')['y'].diff()\n",
    "    displacement = np.sqrt(dx**2 + dy**2)\n",
    "    duration = filtered.groupby('particle')['frame'].diff() * PARAMS['frame_interval']\n",
    "    mean_speed = (displacement.sum() / duration.sum()) * PARAMS['pixel_size'] * 60\n",
    "    instant_speed = displacement / duration\n",
    "    mean_speed_part = instant_speed.groupby(filtered['particle']).mean() * PARAMS['pixel_size'] * 60\n",
    "    return mean_speed, mean_speed_part\n",
    "\n",
    "\n",
    "def clean_directory(dir_path):\n",
    "    \"\"\"Remove all files with the specified extensions in the directory.\"\"\"\n",
    "    for file in os.listdir(dir_path):\n",
    "        if file.endswith(tuple(PARAMS['remove_exts'])):\n",
    "            os.remove(os.path.join(dir_path, file))"
   ]
  },
  {
   "cell_type": "code",
   "execution_count": 37,
   "metadata": {},
   "outputs": [
    {
     "name": "stdout",
     "output_type": "stream",
     "text": [
      "Frame 123: 614 features\n"
     ]
    },
    {
     "name": "stderr",
     "output_type": "stream",
     "text": [
      "processing batches:   0%|          | 0/3 [04:53<?, ?it/s]\n"
     ]
    },
    {
     "ename": "KeyboardInterrupt",
     "evalue": "",
     "output_type": "error",
     "traceback": [
      "\u001b[0;31m---------------------------------------------------------------------------\u001b[0m",
      "\u001b[0;31mIndexError\u001b[0m                                Traceback (most recent call last)",
      "File \u001b[0;32m~/anaconda3/lib/python3.11/multiprocessing/pool.py:856\u001b[0m, in \u001b[0;36mIMapIterator.next\u001b[0;34m(self, timeout)\u001b[0m\n\u001b[1;32m    855\u001b[0m \u001b[39mtry\u001b[39;00m:\n\u001b[0;32m--> 856\u001b[0m     item \u001b[39m=\u001b[39m \u001b[39mself\u001b[39m\u001b[39m.\u001b[39m_items\u001b[39m.\u001b[39mpopleft()\n\u001b[1;32m    857\u001b[0m \u001b[39mexcept\u001b[39;00m \u001b[39mIndexError\u001b[39;00m:\n",
      "\u001b[0;31mIndexError\u001b[0m: pop from an empty deque",
      "\nDuring handling of the above exception, another exception occurred:\n",
      "\u001b[0;31mKeyboardInterrupt\u001b[0m                         Traceback (most recent call last)",
      "\u001b[1;32m/Users/souchaud/Desktop/Dictyostelium/Motility/Analyse_tracking/tracking_and_analyze/tracking_parameters_optimisation.ipynb Cell 5\u001b[0m line \u001b[0;36m9\n\u001b[1;32m      <a href='vscode-notebook-cell:/Users/souchaud/Desktop/Dictyostelium/Motility/Analyse_tracking/tracking_and_analyze/tracking_parameters_optimisation.ipynb#W6sZmlsZQ%3D%3D?line=4'>5</a>\u001b[0m         process_experiment(exp_name, PARAMS)\n\u001b[1;32m      <a href='vscode-notebook-cell:/Users/souchaud/Desktop/Dictyostelium/Motility/Analyse_tracking/tracking_and_analyze/tracking_parameters_optimisation.ipynb#W6sZmlsZQ%3D%3D?line=7'>8</a>\u001b[0m \u001b[39mif\u001b[39;00m \u001b[39m__name__\u001b[39m \u001b[39m==\u001b[39m \u001b[39m'\u001b[39m\u001b[39m__main__\u001b[39m\u001b[39m'\u001b[39m:\n\u001b[0;32m----> <a href='vscode-notebook-cell:/Users/souchaud/Desktop/Dictyostelium/Motility/Analyse_tracking/tracking_and_analyze/tracking_parameters_optimisation.ipynb#W6sZmlsZQ%3D%3D?line=8'>9</a>\u001b[0m     main()\n",
      "\u001b[1;32m/Users/souchaud/Desktop/Dictyostelium/Motility/Analyse_tracking/tracking_and_analyze/tracking_parameters_optimisation.ipynb Cell 5\u001b[0m line \u001b[0;36m5\n\u001b[1;32m      <a href='vscode-notebook-cell:/Users/souchaud/Desktop/Dictyostelium/Motility/Analyse_tracking/tracking_and_analyze/tracking_parameters_optimisation.ipynb#W6sZmlsZQ%3D%3D?line=2'>3</a>\u001b[0m \u001b[39mfor\u001b[39;00m exp_name \u001b[39min\u001b[39;00m EXPERIMENT_NAMES:\n\u001b[1;32m      <a href='vscode-notebook-cell:/Users/souchaud/Desktop/Dictyostelium/Motility/Analyse_tracking/tracking_and_analyze/tracking_parameters_optimisation.ipynb#W6sZmlsZQ%3D%3D?line=3'>4</a>\u001b[0m     \u001b[39mprint\u001b[39m(exp_name)\n\u001b[0;32m----> <a href='vscode-notebook-cell:/Users/souchaud/Desktop/Dictyostelium/Motility/Analyse_tracking/tracking_and_analyze/tracking_parameters_optimisation.ipynb#W6sZmlsZQ%3D%3D?line=4'>5</a>\u001b[0m     process_experiment(exp_name, PARAMS)\n",
      "\u001b[1;32m/Users/souchaud/Desktop/Dictyostelium/Motility/Analyse_tracking/tracking_and_analyze/tracking_parameters_optimisation.ipynb Cell 5\u001b[0m line \u001b[0;36m9\n\u001b[1;32m     <a href='vscode-notebook-cell:/Users/souchaud/Desktop/Dictyostelium/Motility/Analyse_tracking/tracking_and_analyze/tracking_parameters_optimisation.ipynb#W6sZmlsZQ%3D%3D?line=85'>86</a>\u001b[0m \u001b[39m# frame[frame > 90] = 0\u001b[39;00m\n\u001b[1;32m     <a href='vscode-notebook-cell:/Users/souchaud/Desktop/Dictyostelium/Motility/Analyse_tracking/tracking_and_analyze/tracking_parameters_optimisation.ipynb#W6sZmlsZQ%3D%3D?line=86'>87</a>\u001b[0m \u001b[39m# plt.figure(figsize=(12, 6))\u001b[39;00m\n\u001b[1;32m     <a href='vscode-notebook-cell:/Users/souchaud/Desktop/Dictyostelium/Motility/Analyse_tracking/tracking_and_analyze/tracking_parameters_optimisation.ipynb#W6sZmlsZQ%3D%3D?line=87'>88</a>\u001b[0m \u001b[39m# plt.imshow(cv2.GaussianBlur(frame, (251, 251), 0), cmap='gray')\u001b[39;00m\n\u001b[1;32m     <a href='vscode-notebook-cell:/Users/souchaud/Desktop/Dictyostelium/Motility/Analyse_tracking/tracking_and_analyze/tracking_parameters_optimisation.ipynb#W6sZmlsZQ%3D%3D?line=88'>89</a>\u001b[0m \u001b[39m# plt.show()\u001b[39;00m\n\u001b[1;32m     <a href='vscode-notebook-cell:/Users/souchaud/Desktop/Dictyostelium/Motility/Analyse_tracking/tracking_and_analyze/tracking_parameters_optimisation.ipynb#W6sZmlsZQ%3D%3D?line=89'>90</a>\u001b[0m \u001b[39m# if nbr_frame_study_total <= 260:\u001b[39;00m\n\u001b[1;32m     <a href='vscode-notebook-cell:/Users/souchaud/Desktop/Dictyostelium/Motility/Analyse_tracking/tracking_and_analyze/tracking_parameters_optimisation.ipynb#W6sZmlsZQ%3D%3D?line=90'>91</a>\u001b[0m \u001b[39mtry\u001b[39;00m:\n\u001b[0;32m---> <a href='vscode-notebook-cell:/Users/souchaud/Desktop/Dictyostelium/Motility/Analyse_tracking/tracking_and_analyze/tracking_parameters_optimisation.ipynb#W6sZmlsZQ%3D%3D?line=91'>92</a>\u001b[0m     cells_loc \u001b[39m=\u001b[39m tp\u001b[39m.\u001b[39mbatch(batch_data,\n\u001b[1;32m     <a href='vscode-notebook-cell:/Users/souchaud/Desktop/Dictyostelium/Motility/Analyse_tracking/tracking_and_analyze/tracking_parameters_optimisation.ipynb#W6sZmlsZQ%3D%3D?line=92'>93</a>\u001b[0m                         diameter\u001b[39m=\u001b[39mPARAMS[\u001b[39m'\u001b[39m\u001b[39mdiameter\u001b[39m\u001b[39m'\u001b[39m],\n\u001b[1;32m     <a href='vscode-notebook-cell:/Users/souchaud/Desktop/Dictyostelium/Motility/Analyse_tracking/tracking_and_analyze/tracking_parameters_optimisation.ipynb#W6sZmlsZQ%3D%3D?line=93'>94</a>\u001b[0m                         minmass\u001b[39m=\u001b[39mPARAMS[\u001b[39m'\u001b[39m\u001b[39mminmass\u001b[39m\u001b[39m'\u001b[39m],\n\u001b[1;32m     <a href='vscode-notebook-cell:/Users/souchaud/Desktop/Dictyostelium/Motility/Analyse_tracking/tracking_and_analyze/tracking_parameters_optimisation.ipynb#W6sZmlsZQ%3D%3D?line=94'>95</a>\u001b[0m                         maxsize\u001b[39m=\u001b[39mPARAMS[\u001b[39m'\u001b[39m\u001b[39mmax_size\u001b[39m\u001b[39m'\u001b[39m],\n\u001b[1;32m     <a href='vscode-notebook-cell:/Users/souchaud/Desktop/Dictyostelium/Motility/Analyse_tracking/tracking_and_analyze/tracking_parameters_optimisation.ipynb#W6sZmlsZQ%3D%3D?line=95'>96</a>\u001b[0m                         separation\u001b[39m=\u001b[39mPARAMS[\u001b[39m'\u001b[39m\u001b[39mseparation\u001b[39m\u001b[39m'\u001b[39m],\n\u001b[1;32m     <a href='vscode-notebook-cell:/Users/souchaud/Desktop/Dictyostelium/Motility/Analyse_tracking/tracking_and_analyze/tracking_parameters_optimisation.ipynb#W6sZmlsZQ%3D%3D?line=96'>97</a>\u001b[0m                         noise_size\u001b[39m=\u001b[39mPARAMS[\u001b[39m'\u001b[39m\u001b[39mnoise_size\u001b[39m\u001b[39m'\u001b[39m],\n\u001b[1;32m     <a href='vscode-notebook-cell:/Users/souchaud/Desktop/Dictyostelium/Motility/Analyse_tracking/tracking_and_analyze/tracking_parameters_optimisation.ipynb#W6sZmlsZQ%3D%3D?line=97'>98</a>\u001b[0m                         smoothing_size\u001b[39m=\u001b[39mPARAMS[\u001b[39m'\u001b[39m\u001b[39msmoothing_size\u001b[39m\u001b[39m'\u001b[39m],\n\u001b[1;32m     <a href='vscode-notebook-cell:/Users/souchaud/Desktop/Dictyostelium/Motility/Analyse_tracking/tracking_and_analyze/tracking_parameters_optimisation.ipynb#W6sZmlsZQ%3D%3D?line=98'>99</a>\u001b[0m                         threshold\u001b[39m=\u001b[39mPARAMS[\u001b[39m'\u001b[39m\u001b[39mthreshold\u001b[39m\u001b[39m'\u001b[39m],\n\u001b[1;32m    <a href='vscode-notebook-cell:/Users/souchaud/Desktop/Dictyostelium/Motility/Analyse_tracking/tracking_and_analyze/tracking_parameters_optimisation.ipynb#W6sZmlsZQ%3D%3D?line=99'>100</a>\u001b[0m                         invert\u001b[39m=\u001b[39mPARAMS[\u001b[39m'\u001b[39m\u001b[39minvert\u001b[39m\u001b[39m'\u001b[39m],\n\u001b[1;32m    <a href='vscode-notebook-cell:/Users/souchaud/Desktop/Dictyostelium/Motility/Analyse_tracking/tracking_and_analyze/tracking_parameters_optimisation.ipynb#W6sZmlsZQ%3D%3D?line=100'>101</a>\u001b[0m                         percentile\u001b[39m=\u001b[39mPARAMS[\u001b[39m'\u001b[39m\u001b[39mpercentile\u001b[39m\u001b[39m'\u001b[39m],\n\u001b[1;32m    <a href='vscode-notebook-cell:/Users/souchaud/Desktop/Dictyostelium/Motility/Analyse_tracking/tracking_and_analyze/tracking_parameters_optimisation.ipynb#W6sZmlsZQ%3D%3D?line=101'>102</a>\u001b[0m                         topn\u001b[39m=\u001b[39mPARAMS[\u001b[39m'\u001b[39m\u001b[39mtopn\u001b[39m\u001b[39m'\u001b[39m],\n\u001b[1;32m    <a href='vscode-notebook-cell:/Users/souchaud/Desktop/Dictyostelium/Motility/Analyse_tracking/tracking_and_analyze/tracking_parameters_optimisation.ipynb#W6sZmlsZQ%3D%3D?line=102'>103</a>\u001b[0m                         preprocess\u001b[39m=\u001b[39mPARAMS[\u001b[39m'\u001b[39m\u001b[39mpreprocess\u001b[39m\u001b[39m'\u001b[39m],\n\u001b[1;32m    <a href='vscode-notebook-cell:/Users/souchaud/Desktop/Dictyostelium/Motility/Analyse_tracking/tracking_and_analyze/tracking_parameters_optimisation.ipynb#W6sZmlsZQ%3D%3D?line=103'>104</a>\u001b[0m                         max_iterations\u001b[39m=\u001b[39mPARAMS[\u001b[39m'\u001b[39m\u001b[39mmax_iterations\u001b[39m\u001b[39m'\u001b[39m],\n\u001b[1;32m    <a href='vscode-notebook-cell:/Users/souchaud/Desktop/Dictyostelium/Motility/Analyse_tracking/tracking_and_analyze/tracking_parameters_optimisation.ipynb#W6sZmlsZQ%3D%3D?line=104'>105</a>\u001b[0m                         filter_before\u001b[39m=\u001b[39mPARAMS[\u001b[39m'\u001b[39m\u001b[39mfilter_before\u001b[39m\u001b[39m'\u001b[39m],\n\u001b[1;32m    <a href='vscode-notebook-cell:/Users/souchaud/Desktop/Dictyostelium/Motility/Analyse_tracking/tracking_and_analyze/tracking_parameters_optimisation.ipynb#W6sZmlsZQ%3D%3D?line=105'>106</a>\u001b[0m                         filter_after\u001b[39m=\u001b[39mPARAMS[\u001b[39m'\u001b[39m\u001b[39mfilter_after\u001b[39m\u001b[39m'\u001b[39m],\n\u001b[1;32m    <a href='vscode-notebook-cell:/Users/souchaud/Desktop/Dictyostelium/Motility/Analyse_tracking/tracking_and_analyze/tracking_parameters_optimisation.ipynb#W6sZmlsZQ%3D%3D?line=106'>107</a>\u001b[0m                         characterize\u001b[39m=\u001b[39mPARAMS[\u001b[39m'\u001b[39m\u001b[39mcharacterize\u001b[39m\u001b[39m'\u001b[39m],\n\u001b[1;32m    <a href='vscode-notebook-cell:/Users/souchaud/Desktop/Dictyostelium/Motility/Analyse_tracking/tracking_and_analyze/tracking_parameters_optimisation.ipynb#W6sZmlsZQ%3D%3D?line=107'>108</a>\u001b[0m                         engine\u001b[39m=\u001b[39mPARAMS[\u001b[39m'\u001b[39m\u001b[39mengine\u001b[39m\u001b[39m'\u001b[39m])\n\u001b[1;32m    <a href='vscode-notebook-cell:/Users/souchaud/Desktop/Dictyostelium/Motility/Analyse_tracking/tracking_and_analyze/tracking_parameters_optimisation.ipynb#W6sZmlsZQ%3D%3D?line=108'>109</a>\u001b[0m     cells_loc[\u001b[39m'\u001b[39m\u001b[39mframe\u001b[39m\u001b[39m'\u001b[39m] \u001b[39m+\u001b[39m\u001b[39m=\u001b[39m frame_counter\n\u001b[1;32m    <a href='vscode-notebook-cell:/Users/souchaud/Desktop/Dictyostelium/Motility/Analyse_tracking/tracking_and_analyze/tracking_parameters_optimisation.ipynb#W6sZmlsZQ%3D%3D?line=109'>110</a>\u001b[0m     frame_counter \u001b[39m+\u001b[39m\u001b[39m=\u001b[39m i\n",
      "File \u001b[0;32m~/anaconda3/lib/python3.11/site-packages/trackpy/feature.py:557\u001b[0m, in \u001b[0;36mbatch\u001b[0;34m(frames, diameter, output, meta, processes, after_locate, **kwargs)\u001b[0m\n\u001b[1;32m    555\u001b[0m \u001b[39mtry\u001b[39;00m:\n\u001b[1;32m    556\u001b[0m     all_features \u001b[39m=\u001b[39m []\n\u001b[0;32m--> 557\u001b[0m     \u001b[39mfor\u001b[39;00m i, features \u001b[39min\u001b[39;00m \u001b[39menumerate\u001b[39m(map_func(curried_locate, frames)):\n\u001b[1;32m    558\u001b[0m         image \u001b[39m=\u001b[39m frames[i]\n\u001b[1;32m    559\u001b[0m         \u001b[39mif\u001b[39;00m \u001b[39mhasattr\u001b[39m(image, \u001b[39m'\u001b[39m\u001b[39mframe_no\u001b[39m\u001b[39m'\u001b[39m) \u001b[39mand\u001b[39;00m image\u001b[39m.\u001b[39mframe_no \u001b[39mis\u001b[39;00m \u001b[39mnot\u001b[39;00m \u001b[39mNone\u001b[39;00m:\n",
      "File \u001b[0;32m~/anaconda3/lib/python3.11/multiprocessing/pool.py:861\u001b[0m, in \u001b[0;36mIMapIterator.next\u001b[0;34m(self, timeout)\u001b[0m\n\u001b[1;32m    859\u001b[0m     \u001b[39mself\u001b[39m\u001b[39m.\u001b[39m_pool \u001b[39m=\u001b[39m \u001b[39mNone\u001b[39;00m\n\u001b[1;32m    860\u001b[0m     \u001b[39mraise\u001b[39;00m \u001b[39mStopIteration\u001b[39;00m \u001b[39mfrom\u001b[39;00m \u001b[39mNone\u001b[39;00m\n\u001b[0;32m--> 861\u001b[0m \u001b[39mself\u001b[39m\u001b[39m.\u001b[39m_cond\u001b[39m.\u001b[39mwait(timeout)\n\u001b[1;32m    862\u001b[0m \u001b[39mtry\u001b[39;00m:\n\u001b[1;32m    863\u001b[0m     item \u001b[39m=\u001b[39m \u001b[39mself\u001b[39m\u001b[39m.\u001b[39m_items\u001b[39m.\u001b[39mpopleft()\n",
      "File \u001b[0;32m~/anaconda3/lib/python3.11/threading.py:320\u001b[0m, in \u001b[0;36mCondition.wait\u001b[0;34m(self, timeout)\u001b[0m\n\u001b[1;32m    318\u001b[0m \u001b[39mtry\u001b[39;00m:    \u001b[39m# restore state no matter what (e.g., KeyboardInterrupt)\u001b[39;00m\n\u001b[1;32m    319\u001b[0m     \u001b[39mif\u001b[39;00m timeout \u001b[39mis\u001b[39;00m \u001b[39mNone\u001b[39;00m:\n\u001b[0;32m--> 320\u001b[0m         waiter\u001b[39m.\u001b[39macquire()\n\u001b[1;32m    321\u001b[0m         gotit \u001b[39m=\u001b[39m \u001b[39mTrue\u001b[39;00m\n\u001b[1;32m    322\u001b[0m     \u001b[39melse\u001b[39;00m:\n",
      "\u001b[0;31mKeyboardInterrupt\u001b[0m: "
     ]
    }
   ],
   "source": [
    "def main():\n",
    "    \"\"\"Process all experiments.\"\"\"\n",
    "    for exp_name in EXPERIMENT_NAMES:\n",
    "        print(exp_name)\n",
    "        process_experiment(exp_name, PARAMS)\n",
    "\n",
    "\n",
    "if __name__ == '__main__':\n",
    "    main()"
   ]
  }
 ],
 "metadata": {
  "kernelspec": {
   "display_name": "base",
   "language": "python",
   "name": "python3"
  },
  "language_info": {
   "codemirror_mode": {
    "name": "ipython",
    "version": 3
   },
   "file_extension": ".py",
   "mimetype": "text/x-python",
   "name": "python",
   "nbconvert_exporter": "python",
   "pygments_lexer": "ipython3",
   "version": "3.11.5"
  }
 },
 "nbformat": 4,
 "nbformat_minor": 2
}
