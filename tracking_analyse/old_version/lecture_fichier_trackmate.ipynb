{
 "cells": [
  {
   "cell_type": "code",
   "execution_count": null,
   "metadata": {},
   "outputs": [],
   "source": [
    "import xml.etree.ElementTree as ET\n",
    "\n",
    "# Charger le fichier XML\n",
    "tree = ET.parse('/Volumes/Labo-Dicty/Alex/manip109.xml')\n",
    "root = tree.getroot()\n",
    "\n",
    "# Parcourir les éléments\n",
    "for item in root.findall('item'):\n",
    "    attribut = item.get('attribut')\n",
    "    print(f'Attribut: {attribut}')\n",
    "    for subitem in item:\n",
    "        print(f'{subitem.tag}: {subitem.text}')\n"
   ]
  },
  {
   "cell_type": "code",
   "execution_count": null,
   "metadata": {},
   "outputs": [],
   "source": [
    "xml_str = ET.tostring(root, encoding='unicode')\n",
    "xml_str"
   ]
  },
  {
   "cell_type": "code",
   "execution_count": null,
   "metadata": {},
   "outputs": [],
   "source": [
    "# Afficher le contenu XML\n",
    "print(xml_str)"
   ]
  },
  {
   "cell_type": "code",
   "execution_count": null,
   "metadata": {},
   "outputs": [],
   "source": [
    "import pandas as pd\n",
    "\n",
    "# Remplacer 'chemin/vers/votre/fichier.csv' par le chemin réel vers votre fichier CSV\n",
    "chemin_fichier = '/Volumes/Labo-Dicty/Alex/manip109.csv'\n",
    "\n",
    "# Lire le fichier CSV\n",
    "df = pd.read_csv(chemin_fichier)\n",
    "\n",
    "# Afficher les premières lignes du DataFrame pour vérifier\n",
    "display(df)"
   ]
  },
  {
   "cell_type": "code",
   "execution_count": null,
   "metadata": {},
   "outputs": [],
   "source": [
    "df = df.iloc[3:]"
   ]
  },
  {
   "cell_type": "code",
   "execution_count": null,
   "metadata": {},
   "outputs": [],
   "source": [
    "df"
   ]
  },
  {
   "cell_type": "code",
   "execution_count": null,
   "metadata": {},
   "outputs": [],
   "source": [
    "import trackpy as tp"
   ]
  },
  {
   "cell_type": "code",
   "execution_count": null,
   "metadata": {},
   "outputs": [],
   "source": [
    "tp.imsd(df, mpp = 0.637, fps = 1/15)"
   ]
  },
  {
   "cell_type": "code",
   "execution_count": null,
   "metadata": {},
   "outputs": [],
   "source": [
    "df[df['TRACK_ID']=='0']"
   ]
  },
  {
   "cell_type": "code",
   "execution_count": null,
   "metadata": {},
   "outputs": [],
   "source": [
    "df_renomme = df.rename(columns={\n",
    "    'FRAME': 'frame',\n",
    "    'TRACK_ID': 'particle',\n",
    "    'POSITION_X': 'x',\n",
    "    'POSITION_Y': 'y',\n",
    "    'TRACK_ID': 'particle',\n",
    "    # ajoutez autant de renommages que nécessaire\n",
    "})"
   ]
  },
  {
   "cell_type": "code",
   "execution_count": null,
   "metadata": {},
   "outputs": [],
   "source": [
    "Index(['index', 'y', 'x', 'mass', 'size', 'ecc', 'signal', 'raw_mass', 'ep',\n",
    "       'frame', 'old_particle', 'count', 'particle', 'experiment', 'position',\n",
    "       'condition', 'time (min)', 'dx [pix]', 'dy [pix]', 'displacement [pix]',\n",
    "       'VitInst [um/min]', 'total_path_first_n', 'Xc [pix]', 'Yc [pix]',\n",
    "       'cumulative displacement [um]', 'dx', 'dy'],\n",
    "      dtype='object')"
   ]
  },
  {
   "cell_type": "code",
   "execution_count": null,
   "metadata": {},
   "outputs": [],
   "source": [
    "df_renomme\n",
    "# Convertir la colonne 'frame' en numérique (int ou float)\n",
    "df_renomme['frame'] = pd.to_numeric(df_renomme['frame'], errors='coerce')"
   ]
  },
  {
   "cell_type": "code",
   "execution_count": null,
   "metadata": {},
   "outputs": [],
   "source": [
    "df_renomme = df_renomme.apply(pd.to_numeric, errors='ignore')\n",
    "df_renomme.columns"
   ]
  },
  {
   "cell_type": "code",
   "execution_count": null,
   "metadata": {},
   "outputs": [],
   "source": [
    "df_renomme = df_renomme.drop(['ID', 'LABEL', 'QUALITY', 'POSITION_Z', 'POSITION_T','RADIUS', 'VISIBILITY', 'MANUAL_SPOT_COLOR',\n",
    "       'MEAN_INTENSITY_CH1', 'MEDIAN_INTENSITY_CH1', 'MIN_INTENSITY_CH1',\n",
    "       'MAX_INTENSITY_CH1', 'TOTAL_INTENSITY_CH1', 'STD_INTENSITY_CH1',\n",
    "       'CONTRAST_CH1', 'SNR_CH1' ], axis =1)"
   ]
  },
  {
   "cell_type": "code",
   "execution_count": null,
   "metadata": {},
   "outputs": [],
   "source": [
    "tp.imsd(df_renomme, mpp = 0.637, fps = 1/15)"
   ]
  },
  {
   "cell_type": "code",
   "execution_count": null,
   "metadata": {},
   "outputs": [],
   "source": [
    "df_renomme.to_hdf('/Users/souchaud/desktop/filtered.hdf5', 'table')"
   ]
  },
  {
   "cell_type": "code",
   "execution_count": null,
   "metadata": {},
   "outputs": [],
   "source": [
    "df = df_renomme"
   ]
  },
  {
   "cell_type": "code",
   "execution_count": null,
   "metadata": {},
   "outputs": [],
   "source": [
    "df['particle'].nunique()"
   ]
  },
  {
   "cell_type": "code",
   "execution_count": null,
   "metadata": {},
   "outputs": [],
   "source": [
    "df.sort_values(by=['frame', 'particle'], ascending =True, inplace=True)"
   ]
  },
  {
   "cell_type": "code",
   "execution_count": null,
   "metadata": {},
   "outputs": [],
   "source": [
    "df"
   ]
  },
  {
   "cell_type": "code",
   "execution_count": null,
   "metadata": {},
   "outputs": [],
   "source": [
    "import trackpy as tp"
   ]
  },
  {
   "cell_type": "code",
   "execution_count": null,
   "metadata": {},
   "outputs": [],
   "source": [
    "tp.plot_traj(df)"
   ]
  },
  {
   "cell_type": "code",
   "execution_count": null,
   "metadata": {},
   "outputs": [],
   "source": [
    "df.to_hdf('/Users/souchaud/desktop/filtered.hdf5', 'table')"
   ]
  },
  {
   "cell_type": "code",
   "execution_count": null,
   "metadata": {},
   "outputs": [],
   "source": []
  }
 ],
 "metadata": {
  "kernelspec": {
   "display_name": "Tracking_and_analyse",
   "language": "python",
   "name": "python3"
  },
  "language_info": {
   "codemirror_mode": {
    "name": "ipython",
    "version": 3
   },
   "file_extension": ".py",
   "mimetype": "text/x-python",
   "name": "python",
   "nbconvert_exporter": "python",
   "pygments_lexer": "ipython3",
   "version": "3.9.18"
  }
 },
 "nbformat": 4,
 "nbformat_minor": 2
}
