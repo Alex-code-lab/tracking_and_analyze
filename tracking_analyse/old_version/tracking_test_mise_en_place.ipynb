{
 "cells": [
  {
   "cell_type": "code",
   "execution_count": null,
   "metadata": {},
   "outputs": [],
   "source": [
    "import cv2\n",
    "import numpy as np\n",
    "import pandas as pd\n",
    "import trackpy as tp\n",
    "from skimage import io, filters, exposure"
   ]
  },
  {
   "cell_type": "code",
   "execution_count": null,
   "metadata": {},
   "outputs": [],
   "source": [
    "# Chemin de votre fichier image\n",
    "name_manip = '2023_01_27_ASMOT055_BoiteCytoOne_HL5_15s_5x_P4_AX3Chi2_t0_21c'\n",
    "image_path = f'/Users/souchaud/Desktop/A_analyser/CytoOne_HL5/{name_manip}/mosaic/mosaic_total_0.tif'  # Ajustez selon le chemin de votre fichier\n",
    "\n",
    "# Charger l'image\n",
    "image = io.imread(image_path)\n",
    "\n",
    "# Pré-traitement\n",
    "# 1. Correction de l'éclairage\n",
    "#    Vous pouvez ajuster 'clip_limit' et 'tileGridSize' selon vos besoins\n",
    "clahe = cv2.createCLAHE(clipLimit=2.0, tileGridSize=(8, 8))\n",
    "image_clahe = clahe.apply(image)\n"
   ]
  },
  {
   "cell_type": "code",
   "execution_count": null,
   "metadata": {},
   "outputs": [],
   "source": [
    "\n",
    "# 2. Filtrage du bruit\n",
    "#    Choisissez un filtre et ajustez les paramètres selon vos besoins\n",
    "image_filtered = filters.median(image_clahe, footprint=np.ones((3, 3)))"
   ]
  },
  {
   "cell_type": "code",
   "execution_count": null,
   "metadata": {},
   "outputs": [],
   "source": [
    "# Affichage des résultats\n",
    "import matplotlib.pyplot as plt\n",
    "plt.figure(figsize=(12, 12))\n",
    "plt.imshow(image_clahe, cmap='gray')\n",
    "plt.show()\n",
    "\n",
    "plt.figure(figsize=(12, 12))\n",
    "plt.imshow(image, cmap='gray')\n",
    "plt.show()"
   ]
  },
  {
   "cell_type": "code",
   "execution_count": null,
   "metadata": {},
   "outputs": [],
   "source": [
    "# Consolidated parameters\n",
    "PARAMS = {\n",
    "    'diameter': 9,\n",
    "    'minmass': 50,\n",
    "    'max_size': 25,\n",
    "    'separation': 15,\n",
    "    'noise_size': 7,\n",
    "    'smoothing_size': None,\n",
    "    'invert': True,\n",
    "    'percentile': 10,\n",
    "    'topn': None,\n",
    "    'preprocess': True,\n",
    "    'max_iterations': 25,\n",
    "    'filter_before': None,\n",
    "    'filter_after': None,\n",
    "    'characterize': True,\n",
    "    'engine': 'auto',\n",
    "    'threshold': 40,  # 90,\n",
    "    'min_frames': 1,\n",
    "    'max_displacement': 15,\n",
    "    'frame_interval': 15,\n",
    "    'pixel_size': 1.2773,\n",
    "    'remove_exts': ['.jpg', '.svg', 'hdf5', '.png'],\n",
    "    'long_time': True,\n",
    "    'max_frame': 1000,\n",
    "    # 'data_dir': '/Users/souchaud/Desktop/A_Analyser/CytoOne_HL5/',\n",
    "    'data_dir': '/Users/souchaud/Desktop/A_Analyser/NonT_SorC/',\n",
    "    # 'output_dir': '/Users/souchaud/Desktop/Analyses/CytoOne_HL5_longtime/'\n",
    "    # 'data_dir': '/Volumes/Labo_Alex_Mac/A_analyser/CytoOne_HL5/',´\n",
    "    # 'output_dir': '/Users/souchaud/Desktop/Analyses/CytoOne_HL5_longtime/'\n",
    "    'output_dir': '/Users/souchaud/Desktop/Analyses/NonT_SorC_longtime_New/'\n",
    "    }"
   ]
  },
  {
   "cell_type": "code",
   "execution_count": null,
   "metadata": {},
   "outputs": [],
   "source": [
    "\n",
    "# # 3. Seuillage (si nécessaire)\n",
    "# #    Ajustez la méthode et les paramètres de seuillage selon vos besoins\n",
    "# thresh = filters.threshold_otsu(image_filtered)\n",
    "# binary_image = image_filtered > thresh\n",
    "\n",
    "# Détection des cellules avec Trackpy\n",
    "# Ajustez 'diameter', 'minmass', etc., selon les caractéristiques de vos cellules\n",
    "\n",
    "f = tp.locate(image,\n",
    "            diameter=PARAMS['diameter'],\n",
    "            minmass=PARAMS['minmass'],\n",
    "            maxsize=PARAMS['max_size'],\n",
    "            separation=PARAMS['separation'],\n",
    "            noise_size=PARAMS['noise_size'],\n",
    "            smoothing_size=PARAMS['smoothing_size'],\n",
    "            threshold=PARAMS['threshold'],\n",
    "            invert=PARAMS['invert'],\n",
    "            percentile=PARAMS['percentile'],\n",
    "            topn=PARAMS['topn'],\n",
    "            preprocess=PARAMS['preprocess'],\n",
    "            max_iterations=PARAMS['max_iterations'],\n",
    "            filter_before=PARAMS['filter_before'],\n",
    "            filter_after=PARAMS['filter_after'],\n",
    "            characterize=PARAMS['characterize'],\n",
    "            engine=PARAMS['engine'])"
   ]
  },
  {
   "cell_type": "code",
   "execution_count": null,
   "metadata": {},
   "outputs": [],
   "source": [
    "# Affichage des résultats\n",
    "import matplotlib.pyplot as plt\n",
    "plt.figure(figsize=(12, 12))\n",
    "plt.imshow(image, cmap='gray')\n",
    "tp.annotate(f, image)\n",
    "plt.show()"
   ]
  },
  {
   "cell_type": "code",
   "execution_count": null,
   "metadata": {},
   "outputs": [],
   "source": []
  }
 ],
 "metadata": {
  "kernelspec": {
   "display_name": "base",
   "language": "python",
   "name": "python3"
  },
  "language_info": {
   "codemirror_mode": {
    "name": "ipython",
    "version": 3
   },
   "file_extension": ".py",
   "mimetype": "text/x-python",
   "name": "python",
   "nbconvert_exporter": "python",
   "pygments_lexer": "ipython3",
   "version": "3.11.5"
  }
 },
 "nbformat": 4,
 "nbformat_minor": 2
}
