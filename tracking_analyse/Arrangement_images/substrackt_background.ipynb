{
 "cells": [
  {
   "cell_type": "code",
   "execution_count": null,
   "metadata": {},
   "outputs": [],
   "source": [
    "import cv2\n",
    "import numpy as np\n",
    "import matplotlib.pyplot as plt\n",
    "from scipy import ndimage\n",
    "from skimage import util\n",
    "import trackpy as tp\n",
    "import functions_analyze as lib\n",
    "import imageio\n",
    "import os\n"
   ]
  },
  {
   "cell_type": "code",
   "execution_count": null,
   "metadata": {},
   "outputs": [],
   "source": [
    "frame = lib.import_img_sequences(path='/Users/souchaud/Desktop/A_analyser/CytoOne_HL5_10x/2024_01_30_ASMOT116_AX3_Chi1_P2_10x_CytoOne_HL5/mosaic/',\n",
    "                                 first_frame=0, last_frame=340, file_extension='.tif')"
   ]
  },
  {
   "cell_type": "code",
   "execution_count": null,
   "metadata": {},
   "outputs": [],
   "source": [
    "# Conversion des images en tableau NumPy\n",
    "# Assurez-vous que toutes vos images ont les mêmes dimensions\n",
    "images_array = np.stack([np.array(img) for img in frame])\n",
    "\n",
    "# Calculer la médiane pixel par pixel\n",
    "median_image = np.median(images_array, axis=0)\n",
    "\n",
    "# Afficher l'image médiane\n",
    "plt.figure(figsize=(10, 10))\n",
    "plt.imshow(median_image, cmap='gray')  # Utilisez cmap='gray' pour les images en niveaux de gris\n",
    "plt.title(\"Image Moyenne\")\n",
    "plt.axis('off')  # Cacher les axes\n",
    "plt.show()"
   ]
  },
  {
   "cell_type": "code",
   "execution_count": null,
   "metadata": {},
   "outputs": [],
   "source": [
    "# Soustraire l'image médiane\n",
    "subtracted_image = frame[1] - median_image\n",
    "# Afficher l'image médiane\n",
    "plt.figure(figsize=(10, 10))\n",
    "plt.imshow(subtracted_image, cmap='gray')  # Utilisez cmap='gray' pour les images en niveaux de gris\n",
    "plt.title(\"substracted image\")\n",
    "plt.axis('off')  # Cacher les axes\n",
    "plt.show()"
   ]
  },
  {
   "cell_type": "code",
   "execution_count": null,
   "metadata": {},
   "outputs": [],
   "source": [
    "# Assurez-vous d'avoir le bon chemin de sauvegarde\n",
    "save_path = '/Users/souchaud/Desktop/testmedian/'\n",
    "for i, img in enumerate(frame):\n",
    "    # Convertir l'image en tableau NumPy si ce n'est pas déjà le cas\n",
    "    img_array = np.array(img)\n",
    "    \n",
    "    # Soustraire l'image médiane\n",
    "    subtracted_image = img_array - median_image\n",
    "\n",
    "    filename = f'mosaic_{i}.tif'\n",
    "    \n",
    "    # Sauvegarder l'image\n",
    "    imageio.imwrite(os.path.join(save_path, filename), subtracted_image.astype(np.uint32))\n"
   ]
  }
 ],
 "metadata": {
  "language_info": {
   "name": "python"
  }
 },
 "nbformat": 4,
 "nbformat_minor": 2
}
